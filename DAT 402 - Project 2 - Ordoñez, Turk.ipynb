{
  "cells": [
    {
      "cell_type": "markdown",
      "source": [
        "#Project 2 : Medical Image Classification\n",
        "by: Zeynep Turk and Amoreena Ordoñez"
      ],
      "metadata": {
        "id": "I7m3iS6Wz-Pu"
      },
      "id": "I7m3iS6Wz-Pu"
    },
    {
      "cell_type": "markdown",
      "source": [
        "In this project we will be training supervised and unsupervised machine learning models for image classification using the Chest X-Rays dataset compiled by the Naional Institutes of Health. The set contains 112,120 images in 1024 x 1024 pixel resolution and patient data with class labels of disease type for each observation. The class labels are as follows:\n",
        "\n",
        "* Atelectasis\n",
        "* Cardiomegaly\n",
        "* Consolidation\n",
        "* Edema\n",
        "* Effusion\n",
        "* Emphysema\n",
        "* Fibrosis\n",
        "* Hernia\n",
        "* Infiltration\n",
        "* Nodule Mass\n",
        "* No Findings\n",
        "* Pleural Thickening\n",
        "* Pneumonia\n",
        "* Pneumothorax\n",
        "\n",
        "The goal of this work is to predict a patient diagnosis based on the imaging as accurately as possible. Training and tuning such models is important work that can advance research, lead to early intervention, and guide treatment plans. To begin we will import the necessary libraries as well as the dataset files.\n",
        "\n"
      ],
      "metadata": {
        "id": "v67waReaRHbP"
      },
      "id": "v67waReaRHbP"
    },
    {
      "cell_type": "code",
      "execution_count": 7,
      "id": "0f067b61-fb9a-47b2-8338-fb5d904720a3",
      "metadata": {
        "id": "0f067b61-fb9a-47b2-8338-fb5d904720a3"
      },
      "outputs": [],
      "source": [
        "## import libraries\n",
        "\n",
        "import pandas as pd\n",
        "import numpy as np\n",
        "import matplotlib.pyplot as plt\n",
        "\n",
        "import tensorflow as tf\n",
        "from tensorflow import keras\n",
        "from tensorflow.keras import layers\n",
        "from tensorflow.keras.models import Sequential"
      ]
    },
    {
      "cell_type": "code",
      "source": [
        "pt_data = pd.DataFrameread_csv('https://raw.githubusercontent.com/hiamoreena/DAT-401-Project-2/refs/heads/main/Data_Entry_2017.csv')\n",
        "pt_data.head()\n",
        "pt_data.shape()"
      ],
      "metadata": {
        "id": "WUVdd73oQRr8",
        "outputId": "4bdad550-9092-46fe-e960-b5f64b9086e4",
        "colab": {
          "base_uri": "https://localhost:8080/",
          "height": 198
        }
      },
      "id": "WUVdd73oQRr8",
      "execution_count": 18,
      "outputs": [
        {
          "output_type": "error",
          "ename": "TypeError",
          "evalue": "'tuple' object is not callable",
          "traceback": [
            "\u001b[0;31m---------------------------------------------------------------------------\u001b[0m",
            "\u001b[0;31mTypeError\u001b[0m                                 Traceback (most recent call last)",
            "\u001b[0;32m<ipython-input-18-3e5173e1d888>\u001b[0m in \u001b[0;36m<cell line: 0>\u001b[0;34m()\u001b[0m\n\u001b[1;32m      1\u001b[0m \u001b[0mpt_data\u001b[0m \u001b[0;34m=\u001b[0m \u001b[0mpd\u001b[0m\u001b[0;34m.\u001b[0m\u001b[0mread_csv\u001b[0m\u001b[0;34m(\u001b[0m\u001b[0;34m'https://raw.githubusercontent.com/hiamoreena/DAT-401-Project-2/refs/heads/main/Data_Entry_2017.csv'\u001b[0m\u001b[0;34m)\u001b[0m\u001b[0;34m\u001b[0m\u001b[0;34m\u001b[0m\u001b[0m\n\u001b[1;32m      2\u001b[0m \u001b[0mpt_data\u001b[0m\u001b[0;34m.\u001b[0m\u001b[0mhead\u001b[0m\u001b[0;34m(\u001b[0m\u001b[0;34m)\u001b[0m\u001b[0;34m\u001b[0m\u001b[0;34m\u001b[0m\u001b[0m\n\u001b[0;32m----> 3\u001b[0;31m \u001b[0mpt_data\u001b[0m\u001b[0;34m.\u001b[0m\u001b[0mshape\u001b[0m\u001b[0;34m(\u001b[0m\u001b[0;34m)\u001b[0m\u001b[0;34m\u001b[0m\u001b[0;34m\u001b[0m\u001b[0m\n\u001b[0m",
            "\u001b[0;31mTypeError\u001b[0m: 'tuple' object is not callable"
          ]
        }
      ]
    }
  ],
  "metadata": {
    "kernelspec": {
      "display_name": "Python [conda env:base] *",
      "language": "python",
      "name": "conda-base-py"
    },
    "language_info": {
      "codemirror_mode": {
        "name": "ipython",
        "version": 3
      },
      "file_extension": ".py",
      "mimetype": "text/x-python",
      "name": "python",
      "nbconvert_exporter": "python",
      "pygments_lexer": "ipython3",
      "version": "3.11.5"
    },
    "colab": {
      "provenance": []
    }
  },
  "nbformat": 4,
  "nbformat_minor": 5
}