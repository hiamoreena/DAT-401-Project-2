{
  "cells": [
    {
      "cell_type": "markdown",
      "source": [
        "#Project 2 : Medical Image Classification\n",
        "by: Zeynep Turk and Amoreena Ordoñez"
      ],
      "metadata": {
        "id": "I7m3iS6Wz-Pu"
      },
      "id": "I7m3iS6Wz-Pu"
    },
    {
      "cell_type": "markdown",
      "source": [
        "In this project we will be training supervised and unsupervised machine learning models for image classification using the Chest X-Rays dataset compiled by the Naional Institutes of Health. The set contains 112,120 images in 1024 x 1024 pixel resolution and patient data with class labels of disease type for each observation. The class labels are as follows:\n",
        "\n",
        "* Atelectasis\n",
        "* Cardiomegaly\n",
        "* Consolidation\n",
        "* Edema\n",
        "* Effusion\n",
        "* Emphysema\n",
        "* Fibrosis\n",
        "* Hernia\n",
        "* Infiltration\n",
        "* Nodule Mass\n",
        "* No Findings\n",
        "* Pleural Thickening\n",
        "* Pneumonia\n",
        "* Pneumothorax\n",
        "\n",
        "The goal of this work is to predict a patient diagnosis based on the imaging as accurately as possible. Training and tuning such models is important work that can advance research, lead to early intervention, and guide treatment plans. To begin we will import the necessary libraries as well as the dataset files.\n",
        "\n"
      ],
      "metadata": {
        "id": "v67waReaRHbP"
      },
      "id": "v67waReaRHbP"
    },
    {
      "cell_type": "code",
      "execution_count": null,
      "id": "0f067b61-fb9a-47b2-8338-fb5d904720a3",
      "metadata": {
        "id": "0f067b61-fb9a-47b2-8338-fb5d904720a3"
      },
      "outputs": [],
      "source": [
        "## import libraries\n",
        "\n",
        "import pandas as pd\n",
        "import numpy as np\n",
        "import matplotlib.pyplot as plt\n",
        "\n",
        "import tensorflow as tf\n",
        "from =tenserflow.keras import layers\n"
      ]
    },
    {
      "cell_type": "code",
      "source": [
        "x_rays = pd.read_csv(\"\")"
      ],
      "metadata": {
        "id": "WUVdd73oQRr8"
      },
      "id": "WUVdd73oQRr8",
      "execution_count": null,
      "outputs": []
    }
  ],
  "metadata": {
    "kernelspec": {
      "display_name": "Python [conda env:base] *",
      "language": "python",
      "name": "conda-base-py"
    },
    "language_info": {
      "codemirror_mode": {
        "name": "ipython",
        "version": 3
      },
      "file_extension": ".py",
      "mimetype": "text/x-python",
      "name": "python",
      "nbconvert_exporter": "python",
      "pygments_lexer": "ipython3",
      "version": "3.11.5"
    },
    "colab": {
      "provenance": []
    }
  },
  "nbformat": 4,
  "nbformat_minor": 5
}